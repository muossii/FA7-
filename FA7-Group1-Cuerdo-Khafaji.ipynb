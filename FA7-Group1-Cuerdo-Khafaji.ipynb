{
 "cells": [
  {
   "cell_type": "code",
   "execution_count": 22,
   "metadata": {},
   "outputs": [
    {
     "name": "stdout",
     "output_type": "stream",
     "text": [
      "The circle is centered at (150, 100)  and has a radius of 75\n"
     ]
    }
   ],
   "source": [
    "class Circle:\n",
    "    def __init__(self, x, y, rad):\n",
    "        self.x = x\n",
    "        self.y = y\n",
    "        self.rad = rad\n",
    "        \n",
    "circ = Circle(150, 100, 75)\n",
    "center = (circ.x,circ.y)\n",
    "    \n",
    "print(\"The circle is centered at\", center, \" and has a radius of\", circ.rad)"
   ]
  },
  {
   "cell_type": "code",
   "execution_count": 12,
   "metadata": {},
   "outputs": [
    {
     "name": "stdout",
     "output_type": "stream",
     "text": [
      "Enter point values!\n",
      "input value of x: 200\n",
      "input value of y: 100\n"
     ]
    },
    {
     "data": {
      "text/plain": [
       "True"
      ]
     },
     "execution_count": 12,
     "metadata": {},
     "output_type": "execute_result"
    }
   ],
   "source": [
    "def point_in_circle(x1,y1):\n",
    "    pc = Circle(150, 100, 75)\n",
    "    \n",
    "    if((x1-circ.x)**2)+((y1-circ.y)**2)<=circ.rad**2:\n",
    "        return True\n",
    "    else:\n",
    "        return False\n",
    "    \n",
    "print(\"Enter point values!\")\n",
    "x1=int(input(\"input value of x: \"))\n",
    "y1=int(input(\"input value of y: \"))\n",
    "\n",
    "point_in_circle(x1,y1)"
   ]
  },
  {
   "cell_type": "code",
   "execution_count": 7,
   "metadata": {},
   "outputs": [
    {
     "name": "stdout",
     "output_type": "stream",
     "text": [
      "Enter point values!\n",
      "input y value for top side: 100\n",
      "input y value for bottom side: 50\n",
      "input x value for left side: 125\n",
      "input x value for right side: 200\n"
     ]
    },
    {
     "data": {
      "text/plain": [
       "True"
      ]
     },
     "execution_count": 7,
     "metadata": {},
     "output_type": "execute_result"
    }
   ],
   "source": [
    "def rect_in_circle(top,left,bottom,right):\n",
    "    pc = Circle(150, 100, 75)\n",
    "    \n",
    "    if((left-pc.x)**2)+((top-pc.y)**2)<=pc.rad**2:\n",
    "        if((right-pc.x)**2)+((top-pc.y)**2)<=pc.rad**2:\n",
    "            if((left-pc.x)**2)+((bottom-pc.y)**2)<=pc.rad**2:\n",
    "                if((right-pc.x)**2)+((bottom-pc.y)**2)<=pc.rad**2:\n",
    "                    return True\n",
    "                else:\n",
    "                    return False\n",
    "            else:\n",
    "                return False\n",
    "        else:\n",
    "            return False\n",
    "    else:\n",
    "        return False\n",
    "    \n",
    "print(\"Enter point values!\")\n",
    "top=int(input(\"input y value for top side: \"))\n",
    "bottom=int(input(\"input y value for bottom side: \"))\n",
    "left=int(input(\"input x value for left side: \"))\n",
    "right=int(input(\"input x value for right side: \"))\n",
    "\n",
    "rect_in_circle(top,left,bottom,right)"
   ]
  },
  {
   "cell_type": "code",
   "execution_count": 9,
   "metadata": {},
   "outputs": [
    {
     "name": "stdout",
     "output_type": "stream",
     "text": [
      "Enter point values!\n",
      "input y value for top side: 100\n",
      "input y value for bottom side: 50\n",
      "input x value for left side: 10\n",
      "input x value for right side: 200\n"
     ]
    },
    {
     "data": {
      "text/plain": [
       "True"
      ]
     },
     "execution_count": 9,
     "metadata": {},
     "output_type": "execute_result"
    }
   ],
   "source": [
    "def rect_circle_overlap(top,left,bottom,right):\n",
    "    pc = Circle(150, 100, 75)\n",
    "    \n",
    "    if(((left-pc.x)**2)+((top-pc.y)**2)<pc.rad**2) or (((right-pc.x)**2)+((top-pc.y)**2)<pc.rad**2) or (((right-pc.x)**2)+((bottom-pc.y)**2)<pc.rad**2) or (((left-pc.x)**2)+((bottom-pc.y)**2)<pc.rad**2):\n",
    "        return True\n",
    "    else:\n",
    "        return False\n",
    "    \n",
    "print(\"Enter point values!\")\n",
    "top=int(input(\"input y value for top side: \"))\n",
    "bottom=int(input(\"input y value for bottom side: \"))\n",
    "left=int(input(\"input x value for left side: \"))\n",
    "right=int(input(\"input x value for right side: \"))\n",
    "\n",
    "rect_circle_overlap(top,left,bottom,right)"
   ]
  },
  {
   "cell_type": "code",
   "execution_count": 35,
   "metadata": {},
   "outputs": [
    {
     "name": "stdout",
     "output_type": "stream",
     "text": [
      "Enter point values!\n",
      "input y value for top side: 250\n",
      "input y value for bottom side: 200\n",
      "input x value for left side: 10\n",
      "input x value for right side: 70\n"
     ]
    },
    {
     "data": {
      "text/plain": [
       "False"
      ]
     },
     "execution_count": 35,
     "metadata": {},
     "output_type": "execute_result"
    }
   ],
   "source": [
    "def rect_circle_overlap_part2(top,left,bottom,right):\n",
    "    pc = Circle(150, 100, 75)\n",
    "    \n",
    "    if(((left-pc.x)**2)+((top-pc.y)**2)<pc.rad**2) or (((right-pc.x)**2)+((top-pc.y)**2)<pc.rad**2) or (((right-pc.x)**2)+((bottom-pc.y)**2)<pc.rad**2) or (((left-pc.x)**2)+((bottom-pc.y)**2)<pc.rad**2):\n",
    "        return True\n",
    "    elif ((pc.x-pc.rad<=left) and (left<=pc.x+pc.rad)) or ((pc.x-pc.rad<=right) and (right<=pc.x+pc.rad)):\n",
    "        if (bottom <= pc.y-pc.rad and top > pc.y-pc.rad) or (top>=pc.y+pc.rad and bottom < pc.y+pc.rad):\n",
    "            return True\n",
    "        else:\n",
    "            return False\n",
    "    elif ((pc.y-pc.rad<=top)and(top<=pc.x+pc.rad)) or ((pc.y-pc.rad<=bottom) and (bottom<=pc.y+pc.rad)):\n",
    "        if (left <= pc.x-pc.rad and right > pc.x-pc.rad) or (left>=pc.x+pc.rad and right < pc.x+pc.rad):\n",
    "            return True\n",
    "        else:\n",
    "            return False\n",
    "    else:\n",
    "        return False\n",
    "    \n",
    "    \n",
    "print(\"Enter point values!\")\n",
    "top=int(input(\"input y value for top side: \"))\n",
    "bottom=int(input(\"input y value for bottom side: \"))\n",
    "left=int(input(\"input x value for left side: \"))\n",
    "right=int(input(\"input x value for right side: \"))\n",
    "\n",
    "\n",
    "rect_circle_overlap_part2(top,left,bottom,right)"
   ]
  }
 ],
 "metadata": {
  "kernelspec": {
   "display_name": "Python 3 (ipykernel)",
   "language": "python",
   "name": "python3"
  },
  "language_info": {
   "codemirror_mode": {
    "name": "ipython",
    "version": 3
   },
   "file_extension": ".py",
   "mimetype": "text/x-python",
   "name": "python",
   "nbconvert_exporter": "python",
   "pygments_lexer": "ipython3",
   "version": "3.9.13"
  }
 },
 "nbformat": 4,
 "nbformat_minor": 2
}
